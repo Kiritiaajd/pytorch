{
  "nbformat": 4,
  "nbformat_minor": 0,
  "metadata": {
    "colab": {
      "provenance": [],
      "gpuType": "T4"
    },
    "kernelspec": {
      "name": "python3",
      "display_name": "Python 3"
    },
    "language_info": {
      "name": "python"
    },
    "accelerator": "GPU"
  },
  "cells": [
    {
      "cell_type": "code",
      "execution_count": 3,
      "metadata": {
        "id": "zHnrkzVRIAPu"
      },
      "outputs": [],
      "source": [
        "import torch"
      ]
    },
    {
      "cell_type": "code",
      "source": [
        "x = torch.empty(5, 3 )\n",
        "print(x)"
      ],
      "metadata": {
        "colab": {
          "base_uri": "https://localhost:8080/"
        },
        "id": "DWjIPPUAIDzg",
        "outputId": "602c5bcf-393e-4235-e0d1-f4a7a5635a64"
      },
      "execution_count": 4,
      "outputs": [
        {
          "output_type": "stream",
          "name": "stdout",
          "text": [
            "tensor([[ 8.2729e+34,  4.5451e-41, -3.7610e+27],\n",
            "        [ 3.2586e-41, -3.7585e+27,  3.2586e-41],\n",
            "        [-4.2453e+27,  3.2586e-41,  0.0000e+00],\n",
            "        [ 0.0000e+00, -3.7562e+27,  3.2586e-41],\n",
            "        [-6.5550e+26,  3.2586e-41, -2.9300e-33]])\n"
          ]
        }
      ]
    },
    {
      "cell_type": "code",
      "source": [
        "x = torch.zeros(2 ,2)\n",
        "print(x)"
      ],
      "metadata": {
        "colab": {
          "base_uri": "https://localhost:8080/"
        },
        "id": "xgj1ZibeI4uD",
        "outputId": "4adbf1dd-92e2-4512-9c27-c25d89ce0e59"
      },
      "execution_count": 5,
      "outputs": [
        {
          "output_type": "stream",
          "name": "stdout",
          "text": [
            "tensor([[0., 0.],\n",
            "        [0., 0.]])\n"
          ]
        }
      ]
    },
    {
      "cell_type": "code",
      "source": [
        "x = torch.ones(2 ,2)\n",
        "print(x)"
      ],
      "metadata": {
        "colab": {
          "base_uri": "https://localhost:8080/"
        },
        "id": "WQt60WZHJCQW",
        "outputId": "04e4bb75-0e14-4412-c929-d4d2f0b4cdfa"
      },
      "execution_count": 6,
      "outputs": [
        {
          "output_type": "stream",
          "name": "stdout",
          "text": [
            "tensor([[1., 1.],\n",
            "        [1., 1.]])\n"
          ]
        }
      ]
    },
    {
      "cell_type": "code",
      "source": [
        "x = torch.ones(2 ,2 , dtype=torch.int)\n",
        "print(x)"
      ],
      "metadata": {
        "colab": {
          "base_uri": "https://localhost:8080/"
        },
        "id": "pfNBr_V_JFnO",
        "outputId": "ee411087-650a-4e18-c7f1-6a6e26eff180"
      },
      "execution_count": 7,
      "outputs": [
        {
          "output_type": "stream",
          "name": "stdout",
          "text": [
            "tensor([[1, 1],\n",
            "        [1, 1]], dtype=torch.int32)\n"
          ]
        }
      ]
    },
    {
      "cell_type": "code",
      "source": [
        "x = torch.tensor([2.5 ,2.8])\n",
        "print(x)"
      ],
      "metadata": {
        "colab": {
          "base_uri": "https://localhost:8080/"
        },
        "id": "ijNtwl12JMKR",
        "outputId": "514878f0-88e7-44ad-b87c-9376c1129df4"
      },
      "execution_count": 8,
      "outputs": [
        {
          "output_type": "stream",
          "name": "stdout",
          "text": [
            "tensor([2.5000, 2.8000])\n"
          ]
        }
      ]
    },
    {
      "cell_type": "code",
      "source": [
        "x = torch.rand(3,2)\n",
        "print(x)"
      ],
      "metadata": {
        "colab": {
          "base_uri": "https://localhost:8080/"
        },
        "id": "FmM9JRUTJmPd",
        "outputId": "1c103955-991e-42ee-f8e2-f8e03b9200bd"
      },
      "execution_count": 9,
      "outputs": [
        {
          "output_type": "stream",
          "name": "stdout",
          "text": [
            "tensor([[0.6163, 0.5688],\n",
            "        [0.2773, 0.2383],\n",
            "        [0.6062, 0.6499]])\n"
          ]
        }
      ]
    },
    {
      "cell_type": "code",
      "source": [
        "y = torch.rand(3 ,2)\n",
        "print(y)"
      ],
      "metadata": {
        "colab": {
          "base_uri": "https://localhost:8080/"
        },
        "id": "VOvnH0ngJ03q",
        "outputId": "0db1cf8b-047e-4504-a4be-2d926ad6ce1b"
      },
      "execution_count": 10,
      "outputs": [
        {
          "output_type": "stream",
          "name": "stdout",
          "text": [
            "tensor([[0.3504, 0.9366],\n",
            "        [0.2419, 0.0673],\n",
            "        [0.8775, 0.2186]])\n"
          ]
        }
      ]
    },
    {
      "cell_type": "code",
      "source": [
        "print(x + y)"
      ],
      "metadata": {
        "colab": {
          "base_uri": "https://localhost:8080/"
        },
        "id": "naChEvXhJ9bF",
        "outputId": "913204b1-3a19-449e-f41b-7eb73fb2b2a5"
      },
      "execution_count": 11,
      "outputs": [
        {
          "output_type": "stream",
          "name": "stdout",
          "text": [
            "tensor([[0.9667, 1.5054],\n",
            "        [0.5192, 0.3056],\n",
            "        [1.4837, 0.8685]])\n"
          ]
        }
      ]
    },
    {
      "cell_type": "code",
      "source": [
        "x.add(y)"
      ],
      "metadata": {
        "colab": {
          "base_uri": "https://localhost:8080/"
        },
        "id": "n7NPqJAlKAdW",
        "outputId": "7d4b6a7d-7498-45c5-a0f9-59ec150fe4a9"
      },
      "execution_count": 12,
      "outputs": [
        {
          "output_type": "execute_result",
          "data": {
            "text/plain": [
              "tensor([[0.9667, 1.5054],\n",
              "        [0.5192, 0.3056],\n",
              "        [1.4837, 0.8685]])"
            ]
          },
          "metadata": {},
          "execution_count": 12
        }
      ]
    },
    {
      "cell_type": "code",
      "source": [
        "z = torch.mul(x , y)\n",
        "print(z)"
      ],
      "metadata": {
        "colab": {
          "base_uri": "https://localhost:8080/"
        },
        "id": "BYVnBGWsKFIL",
        "outputId": "facf5c43-bb94-4f65-cd6e-fab4eca16314"
      },
      "execution_count": 13,
      "outputs": [
        {
          "output_type": "stream",
          "name": "stdout",
          "text": [
            "tensor([[0.2159, 0.5327],\n",
            "        [0.0671, 0.0160],\n",
            "        [0.5319, 0.1421]])\n"
          ]
        }
      ]
    },
    {
      "cell_type": "code",
      "source": [
        "z = torch.div(x , y)\n",
        "print(z)"
      ],
      "metadata": {
        "colab": {
          "base_uri": "https://localhost:8080/"
        },
        "id": "xVqAsFuVKMlB",
        "outputId": "107a4c29-e64d-42bd-aeb3-12be3155185e"
      },
      "execution_count": 14,
      "outputs": [
        {
          "output_type": "stream",
          "name": "stdout",
          "text": [
            "tensor([[1.7590, 0.6073],\n",
            "        [1.1466, 3.5384],\n",
            "        [0.6908, 2.9729]])\n"
          ]
        }
      ]
    },
    {
      "cell_type": "code",
      "source": [
        "print(z.size())"
      ],
      "metadata": {
        "colab": {
          "base_uri": "https://localhost:8080/"
        },
        "id": "p0y85MK_KW-t",
        "outputId": "0bf5b850-6517-4d7f-b56a-40052ec9fe37"
      },
      "execution_count": 15,
      "outputs": [
        {
          "output_type": "stream",
          "name": "stdout",
          "text": [
            "torch.Size([3, 2])\n"
          ]
        }
      ]
    },
    {
      "cell_type": "code",
      "source": [
        "print(z[1 ,: ])"
      ],
      "metadata": {
        "colab": {
          "base_uri": "https://localhost:8080/"
        },
        "id": "XJbq4RIOKeKg",
        "outputId": "e3538087-5ef1-4401-b8a3-98885fb775ef"
      },
      "execution_count": 16,
      "outputs": [
        {
          "output_type": "stream",
          "name": "stdout",
          "text": [
            "tensor([1.1466, 3.5384])\n"
          ]
        }
      ]
    },
    {
      "cell_type": "code",
      "source": [
        "y = x.view(6)\n",
        "print(y)"
      ],
      "metadata": {
        "colab": {
          "base_uri": "https://localhost:8080/"
        },
        "id": "BYJSQnZrK1kt",
        "outputId": "e5b9443a-0154-4794-bfbc-2e826956e7f7"
      },
      "execution_count": 17,
      "outputs": [
        {
          "output_type": "stream",
          "name": "stdout",
          "text": [
            "tensor([0.6163, 0.5688, 0.2773, 0.2383, 0.6062, 0.6499])\n"
          ]
        }
      ]
    },
    {
      "cell_type": "code",
      "source": [
        "y = x.view(-1 , 3)\n",
        "print(y)\n",
        "print(y.size())"
      ],
      "metadata": {
        "colab": {
          "base_uri": "https://localhost:8080/"
        },
        "id": "8FbVAXElK5gn",
        "outputId": "420b8612-7586-445d-d92c-d5607287feaf"
      },
      "execution_count": 18,
      "outputs": [
        {
          "output_type": "stream",
          "name": "stdout",
          "text": [
            "tensor([[0.6163, 0.5688, 0.2773],\n",
            "        [0.2383, 0.6062, 0.6499]])\n",
            "torch.Size([2, 3])\n"
          ]
        }
      ]
    },
    {
      "cell_type": "code",
      "source": [
        "a = torch.ones(5)\n",
        "print(a)"
      ],
      "metadata": {
        "colab": {
          "base_uri": "https://localhost:8080/"
        },
        "id": "87M_CRDoLPyA",
        "outputId": "edf4dcbb-2c1d-4c4a-a0b4-0889a1fee452"
      },
      "execution_count": 19,
      "outputs": [
        {
          "output_type": "stream",
          "name": "stdout",
          "text": [
            "tensor([1., 1., 1., 1., 1.])\n"
          ]
        }
      ]
    },
    {
      "cell_type": "code",
      "source": [
        "import numpy as np\n",
        "b = a.numpy()\n",
        "print(b)\n",
        "a.add_(a)\n",
        "print(a)\n",
        "print(b)"
      ],
      "metadata": {
        "colab": {
          "base_uri": "https://localhost:8080/"
        },
        "id": "ERn3COl2LFxn",
        "outputId": "2388e9ec-333f-40ca-9ada-38ffcff88824"
      },
      "execution_count": 20,
      "outputs": [
        {
          "output_type": "stream",
          "name": "stdout",
          "text": [
            "[1. 1. 1. 1. 1.]\n",
            "tensor([2., 2., 2., 2., 2.])\n",
            "[2. 2. 2. 2. 2.]\n"
          ]
        }
      ]
    },
    {
      "cell_type": "code",
      "source": [
        "a = np.ones(5)\n",
        "b = torch.from_numpy(a)\n",
        "np.add(a, 1, out=a)\n",
        "print(a)\n",
        "print(b)\n",
        "\n",
        "a += 1\n",
        "print(a)\n",
        "print(b)"
      ],
      "metadata": {
        "colab": {
          "base_uri": "https://localhost:8080/"
        },
        "id": "L7RFoeJXMKze",
        "outputId": "afbe4ea3-bd4a-4bb9-a4b0-679f32054dd3"
      },
      "execution_count": 21,
      "outputs": [
        {
          "output_type": "stream",
          "name": "stdout",
          "text": [
            "[2. 2. 2. 2. 2.]\n",
            "tensor([2., 2., 2., 2., 2.], dtype=torch.float64)\n",
            "[3. 3. 3. 3. 3.]\n",
            "tensor([3., 3., 3., 3., 3.], dtype=torch.float64)\n"
          ]
        }
      ]
    },
    {
      "cell_type": "code",
      "source": [
        "x = torch.ones(5 , requires_grad=True)\n",
        "print(x)"
      ],
      "metadata": {
        "colab": {
          "base_uri": "https://localhost:8080/"
        },
        "id": "2himc8TbNKM9",
        "outputId": "8fbdde1a-4f83-4cd5-b8c7-b14101d7313c"
      },
      "execution_count": 22,
      "outputs": [
        {
          "output_type": "stream",
          "name": "stdout",
          "text": [
            "tensor([1., 1., 1., 1., 1.], requires_grad=True)\n"
          ]
        }
      ]
    },
    {
      "cell_type": "code",
      "source": [
        "## Back propagation\n",
        "x = torch.randn(3, requires_grad=True)\n",
        "print(x)\n",
        "y = x + 2\n",
        "print(y)\n",
        "z = y * y * 2\n",
        "print(z)\n",
        " # z = z.mean() # mean Operation\n",
        "print(z)\n",
        "# z.backward()  # Gradient od z w.r.t x,  (dz/dx)\n",
        "# print(x.grad)\n",
        "vector = torch.tensor([0.1 , 1.0 , 0.001] , dtype=torch.float)\n",
        "print(vector)\n",
        "z.backward(vector)\n",
        "print(x.grad)"
      ],
      "metadata": {
        "colab": {
          "base_uri": "https://localhost:8080/"
        },
        "id": "ruTrEHUKN8s3",
        "outputId": "eddb3aab-a91a-412e-f309-61e6adfd68a8"
      },
      "execution_count": 23,
      "outputs": [
        {
          "output_type": "stream",
          "name": "stdout",
          "text": [
            "tensor([ 0.3787, -0.9740, -1.0835], requires_grad=True)\n",
            "tensor([2.3787, 1.0260, 0.9165], grad_fn=<AddBackward0>)\n",
            "tensor([11.3161,  2.1053,  1.6800], grad_fn=<MulBackward0>)\n",
            "tensor([11.3161,  2.1053,  1.6800], grad_fn=<MulBackward0>)\n",
            "tensor([0.1000, 1.0000, 0.0010])\n",
            "tensor([9.5147e-01, 4.1039e+00, 3.6661e-03])\n"
          ]
        }
      ]
    },
    {
      "source": [
        "x.requires_grad_(False)\n",
        "x.detach()\n",
        "with torch.no_grad():\n",
        "      y = x + 2\n",
        "      print(y)"
      ],
      "cell_type": "code",
      "metadata": {
        "colab": {
          "base_uri": "https://localhost:8080/"
        },
        "id": "CQtQumt-UuKV",
        "outputId": "3d9be0d6-b216-4bf7-a5e2-4906fc9b89a7"
      },
      "execution_count": 24,
      "outputs": [
        {
          "output_type": "stream",
          "name": "stdout",
          "text": [
            "tensor([2.3787, 1.0260, 0.9165])\n"
          ]
        }
      ]
    },
    {
      "cell_type": "code",
      "source": [
        "# Dummy training Example\n",
        "weights = torch.ones(4 , requires_grad=True)\n",
        "for epoch in range(3):\n",
        "  model_output= (weights*3).sum()\n",
        "  model_output.backward()\n",
        "\n",
        "  print(weights.grad)\n",
        "\n",
        "  weights.grad.zero_()\n"
      ],
      "metadata": {
        "colab": {
          "base_uri": "https://localhost:8080/"
        },
        "id": "687PlFJgVGEy",
        "outputId": "b63dc9fa-3f42-42a1-ddf0-974b79b2bfba"
      },
      "execution_count": 25,
      "outputs": [
        {
          "output_type": "stream",
          "name": "stdout",
          "text": [
            "tensor([3., 3., 3., 3.])\n",
            "tensor([3., 3., 3., 3.])\n",
            "tensor([3., 3., 3., 3.])\n"
          ]
        }
      ]
    },
    {
      "source": [
        "optimizer = torch.optim.SGD([weights] , lr=0.01) # Pass weights as a list\n",
        "optimizer.step()\n",
        "optimizer.zero_grad()"
      ],
      "cell_type": "code",
      "metadata": {
        "id": "mp2xsI21WJwo"
      },
      "execution_count": 26,
      "outputs": []
    },
    {
      "cell_type": "markdown",
      "source": [
        "BACKPROPAGATION ALGORITHM\n"
      ],
      "metadata": {
        "id": "MDkmpJEDWULU"
      }
    },
    {
      "cell_type": "code",
      "source": [
        "import torch\n",
        "x = torch.tensor(1.0)\n",
        "y = torch.tensor(2.0)\n",
        "\n",
        "q = torch.tensor(5.0 , requires_grad=True)\n",
        "# forward pass and compute\n",
        "y_hat = q + x\n",
        "loss = (y_hat - y) ** 2\n",
        "print(loss)\n",
        "# Backward pass\n",
        "loss.backward()\n",
        "print(q.grad)\n",
        "\n",
        "#update weights\n",
        "# next forward\n"
      ],
      "metadata": {
        "colab": {
          "base_uri": "https://localhost:8080/"
        },
        "id": "15KuG3YfWSGA",
        "outputId": "9d169914-7b7e-4554-f3a1-e795741f84d1"
      },
      "execution_count": 3,
      "outputs": [
        {
          "output_type": "stream",
          "name": "stdout",
          "text": [
            "tensor(16., grad_fn=<PowBackward0>)\n",
            "tensor(8.)\n"
          ]
        }
      ]
    },
    {
      "cell_type": "code",
      "source": [
        "# Gradient Descent Algorithm"
      ],
      "metadata": {
        "id": "gJKHtZgP8p4U"
      },
      "execution_count": null,
      "outputs": []
    },
    {
      "cell_type": "code",
      "source": [
        "import numpy as np\n",
        "X = np.array([1 ,2,3,4] , dtype=np.float32)\n",
        "Y = np.array([2,4,6,8] , dtype=np.float32)\n",
        "\n",
        "w = 0.0\n",
        "\n",
        "# model prediction\n",
        "def forward(x):\n",
        "  return w * x\n",
        "\n",
        "# loss = MSE\n",
        "def loss(y , y_predicted):\n",
        "  return ((y_predicted - y)**2).mean()\n",
        "\n",
        "\n",
        "\n",
        "# gradient\n",
        "# MSE = 1/N * (w*x - y ) **2\n",
        "#dl/dw = 1/N 2x (w*x - y )\n",
        "def gradient(x , y , y_predictes):\n",
        "  return np.dot(2*x , y_predictes - y).mean()\n",
        "\n",
        "print(f'Prediction before training : f(5) = {forward(5):.3f}')\n",
        "\n",
        "# Training\n",
        "learning_rate = 0.01\n",
        "n_iters = 10\n",
        "\n",
        "for epoch in range(n_iters):\n",
        "  # prediction = forward pass\n",
        "  y_pred = forward(X)\n",
        "\n",
        "  # loss\n",
        "  l = loss(Y , y_pred)\n",
        "  # Gradients\n",
        "  dw = gradient(X , Y , y_pred)\n",
        "\n",
        "  # update weights\n",
        "  w -= learning_rate * dw\n",
        "\n",
        "  if epoch % 1 == 0:\n",
        "    print(f'epoch {epoch+1} : w = {w:.3f} , loss = {l:.8f}')"
      ],
      "metadata": {
        "colab": {
          "base_uri": "https://localhost:8080/"
        },
        "id": "RyyrPKa-7gEO",
        "outputId": "e4018524-89df-4c8d-bf7b-df2d213a1a98"
      },
      "execution_count": 11,
      "outputs": [
        {
          "output_type": "stream",
          "name": "stdout",
          "text": [
            "Prediction before training : f(5) = 0.000\n",
            "epoch 1 : w = 1.200 , loss = 30.00000000\n",
            "epoch 2 : w = 1.680 , loss = 4.79999924\n",
            "epoch 3 : w = 1.872 , loss = 0.76800019\n",
            "epoch 4 : w = 1.949 , loss = 0.12288000\n",
            "epoch 5 : w = 1.980 , loss = 0.01966083\n",
            "epoch 6 : w = 1.992 , loss = 0.00314574\n",
            "epoch 7 : w = 1.997 , loss = 0.00050331\n",
            "epoch 8 : w = 1.999 , loss = 0.00008053\n",
            "epoch 9 : w = 1.999 , loss = 0.00001288\n",
            "epoch 10 : w = 2.000 , loss = 0.00000206\n"
          ]
        }
      ]
    },
    {
      "cell_type": "code",
      "source": [],
      "metadata": {
        "id": "X4Af45qi9nZ-"
      },
      "execution_count": null,
      "outputs": []
    }
  ]
}