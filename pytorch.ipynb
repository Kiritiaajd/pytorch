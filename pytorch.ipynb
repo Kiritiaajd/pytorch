{
  "nbformat": 4,
  "nbformat_minor": 0,
  "metadata": {
    "colab": {
      "provenance": [],
      "authorship_tag": "ABX9TyOETK4Y07IaXBNiJ9BjloES",
      "include_colab_link": true
    },
    "kernelspec": {
      "name": "python3",
      "display_name": "Python 3"
    },
    "language_info": {
      "name": "python"
    }
  },
  "cells": [
    {
      "cell_type": "markdown",
      "metadata": {
        "id": "view-in-github",
        "colab_type": "text"
      },
      "source": [
        "<a href=\"https://colab.research.google.com/github/Kiritiaajd/pytorch/blob/main/pytorch.ipynb\" target=\"_parent\"><img src=\"https://colab.research.google.com/assets/colab-badge.svg\" alt=\"Open In Colab\"/></a>"
      ]
    },
    {
      "cell_type": "code",
      "execution_count": null,
      "metadata": {
        "id": "zHnrkzVRIAPu"
      },
      "outputs": [],
      "source": [
        "import torch"
      ]
    },
    {
      "cell_type": "code",
      "source": [
        "x = torch.empty(5, 3 )\n",
        "print(x)"
      ],
      "metadata": {
        "colab": {
          "base_uri": "https://localhost:8080/"
        },
        "id": "DWjIPPUAIDzg",
        "outputId": "602c5bcf-393e-4235-e0d1-f4a7a5635a64"
      },
      "execution_count": null,
      "outputs": [
        {
          "output_type": "stream",
          "name": "stdout",
          "text": [
            "tensor([[ 8.2729e+34,  4.5451e-41, -3.7610e+27],\n",
            "        [ 3.2586e-41, -3.7585e+27,  3.2586e-41],\n",
            "        [-4.2453e+27,  3.2586e-41,  0.0000e+00],\n",
            "        [ 0.0000e+00, -3.7562e+27,  3.2586e-41],\n",
            "        [-6.5550e+26,  3.2586e-41, -2.9300e-33]])\n"
          ]
        }
      ]
    },
    {
      "cell_type": "code",
      "source": [
        "x = torch.zeros(2 ,2)\n",
        "print(x)"
      ],
      "metadata": {
        "colab": {
          "base_uri": "https://localhost:8080/"
        },
        "id": "xgj1ZibeI4uD",
        "outputId": "4adbf1dd-92e2-4512-9c27-c25d89ce0e59"
      },
      "execution_count": null,
      "outputs": [
        {
          "output_type": "stream",
          "name": "stdout",
          "text": [
            "tensor([[0., 0.],\n",
            "        [0., 0.]])\n"
          ]
        }
      ]
    },
    {
      "cell_type": "code",
      "source": [
        "x = torch.ones(2 ,2)\n",
        "print(x)"
      ],
      "metadata": {
        "colab": {
          "base_uri": "https://localhost:8080/"
        },
        "id": "WQt60WZHJCQW",
        "outputId": "04e4bb75-0e14-4412-c929-d4d2f0b4cdfa"
      },
      "execution_count": null,
      "outputs": [
        {
          "output_type": "stream",
          "name": "stdout",
          "text": [
            "tensor([[1., 1.],\n",
            "        [1., 1.]])\n"
          ]
        }
      ]
    },
    {
      "cell_type": "code",
      "source": [
        "x = torch.ones(2 ,2 , dtype=torch.int)\n",
        "print(x)"
      ],
      "metadata": {
        "colab": {
          "base_uri": "https://localhost:8080/"
        },
        "id": "pfNBr_V_JFnO",
        "outputId": "ee411087-650a-4e18-c7f1-6a6e26eff180"
      },
      "execution_count": null,
      "outputs": [
        {
          "output_type": "stream",
          "name": "stdout",
          "text": [
            "tensor([[1, 1],\n",
            "        [1, 1]], dtype=torch.int32)\n"
          ]
        }
      ]
    },
    {
      "cell_type": "code",
      "source": [
        "x = torch.tensor([2.5 ,2.8])\n",
        "print(x)"
      ],
      "metadata": {
        "colab": {
          "base_uri": "https://localhost:8080/"
        },
        "id": "ijNtwl12JMKR",
        "outputId": "514878f0-88e7-44ad-b87c-9376c1129df4"
      },
      "execution_count": null,
      "outputs": [
        {
          "output_type": "stream",
          "name": "stdout",
          "text": [
            "tensor([2.5000, 2.8000])\n"
          ]
        }
      ]
    },
    {
      "cell_type": "code",
      "source": [
        "x = torch.rand(3,2)\n",
        "print(x)"
      ],
      "metadata": {
        "colab": {
          "base_uri": "https://localhost:8080/"
        },
        "id": "FmM9JRUTJmPd",
        "outputId": "1c103955-991e-42ee-f8e2-f8e03b9200bd"
      },
      "execution_count": null,
      "outputs": [
        {
          "output_type": "stream",
          "name": "stdout",
          "text": [
            "tensor([[0.6163, 0.5688],\n",
            "        [0.2773, 0.2383],\n",
            "        [0.6062, 0.6499]])\n"
          ]
        }
      ]
    },
    {
      "cell_type": "code",
      "source": [
        "y = torch.rand(3 ,2)\n",
        "print(y)"
      ],
      "metadata": {
        "colab": {
          "base_uri": "https://localhost:8080/"
        },
        "id": "VOvnH0ngJ03q",
        "outputId": "0db1cf8b-047e-4504-a4be-2d926ad6ce1b"
      },
      "execution_count": null,
      "outputs": [
        {
          "output_type": "stream",
          "name": "stdout",
          "text": [
            "tensor([[0.3504, 0.9366],\n",
            "        [0.2419, 0.0673],\n",
            "        [0.8775, 0.2186]])\n"
          ]
        }
      ]
    },
    {
      "cell_type": "code",
      "source": [
        "print(x + y)"
      ],
      "metadata": {
        "colab": {
          "base_uri": "https://localhost:8080/"
        },
        "id": "naChEvXhJ9bF",
        "outputId": "913204b1-3a19-449e-f41b-7eb73fb2b2a5"
      },
      "execution_count": null,
      "outputs": [
        {
          "output_type": "stream",
          "name": "stdout",
          "text": [
            "tensor([[0.9667, 1.5054],\n",
            "        [0.5192, 0.3056],\n",
            "        [1.4837, 0.8685]])\n"
          ]
        }
      ]
    },
    {
      "cell_type": "code",
      "source": [
        "x.add(y)"
      ],
      "metadata": {
        "colab": {
          "base_uri": "https://localhost:8080/"
        },
        "id": "n7NPqJAlKAdW",
        "outputId": "7d4b6a7d-7498-45c5-a0f9-59ec150fe4a9"
      },
      "execution_count": null,
      "outputs": [
        {
          "output_type": "execute_result",
          "data": {
            "text/plain": [
              "tensor([[0.9667, 1.5054],\n",
              "        [0.5192, 0.3056],\n",
              "        [1.4837, 0.8685]])"
            ]
          },
          "metadata": {},
          "execution_count": 12
        }
      ]
    },
    {
      "cell_type": "code",
      "source": [
        "z = torch.mul(x , y)\n",
        "print(z)"
      ],
      "metadata": {
        "colab": {
          "base_uri": "https://localhost:8080/"
        },
        "id": "BYVnBGWsKFIL",
        "outputId": "facf5c43-bb94-4f65-cd6e-fab4eca16314"
      },
      "execution_count": null,
      "outputs": [
        {
          "output_type": "stream",
          "name": "stdout",
          "text": [
            "tensor([[0.2159, 0.5327],\n",
            "        [0.0671, 0.0160],\n",
            "        [0.5319, 0.1421]])\n"
          ]
        }
      ]
    },
    {
      "cell_type": "code",
      "source": [
        "z = torch.div(x , y)\n",
        "print(z)"
      ],
      "metadata": {
        "colab": {
          "base_uri": "https://localhost:8080/"
        },
        "id": "xVqAsFuVKMlB",
        "outputId": "107a4c29-e64d-42bd-aeb3-12be3155185e"
      },
      "execution_count": null,
      "outputs": [
        {
          "output_type": "stream",
          "name": "stdout",
          "text": [
            "tensor([[1.7590, 0.6073],\n",
            "        [1.1466, 3.5384],\n",
            "        [0.6908, 2.9729]])\n"
          ]
        }
      ]
    },
    {
      "cell_type": "code",
      "source": [
        "print(z.size())"
      ],
      "metadata": {
        "colab": {
          "base_uri": "https://localhost:8080/"
        },
        "id": "p0y85MK_KW-t",
        "outputId": "0bf5b850-6517-4d7f-b56a-40052ec9fe37"
      },
      "execution_count": null,
      "outputs": [
        {
          "output_type": "stream",
          "name": "stdout",
          "text": [
            "torch.Size([3, 2])\n"
          ]
        }
      ]
    },
    {
      "cell_type": "code",
      "source": [
        "print(z[1 ,: ])"
      ],
      "metadata": {
        "colab": {
          "base_uri": "https://localhost:8080/"
        },
        "id": "XJbq4RIOKeKg",
        "outputId": "e3538087-5ef1-4401-b8a3-98885fb775ef"
      },
      "execution_count": null,
      "outputs": [
        {
          "output_type": "stream",
          "name": "stdout",
          "text": [
            "tensor([1.1466, 3.5384])\n"
          ]
        }
      ]
    },
    {
      "cell_type": "code",
      "source": [
        "y = x.view(6)\n",
        "print(y)"
      ],
      "metadata": {
        "colab": {
          "base_uri": "https://localhost:8080/"
        },
        "id": "BYJSQnZrK1kt",
        "outputId": "e5b9443a-0154-4794-bfbc-2e826956e7f7"
      },
      "execution_count": null,
      "outputs": [
        {
          "output_type": "stream",
          "name": "stdout",
          "text": [
            "tensor([0.6163, 0.5688, 0.2773, 0.2383, 0.6062, 0.6499])\n"
          ]
        }
      ]
    },
    {
      "cell_type": "code",
      "source": [
        "y = x.view(-1 , 3)\n",
        "print(y)\n",
        "print(y.size())"
      ],
      "metadata": {
        "colab": {
          "base_uri": "https://localhost:8080/"
        },
        "id": "8FbVAXElK5gn",
        "outputId": "420b8612-7586-445d-d92c-d5607287feaf"
      },
      "execution_count": null,
      "outputs": [
        {
          "output_type": "stream",
          "name": "stdout",
          "text": [
            "tensor([[0.6163, 0.5688, 0.2773],\n",
            "        [0.2383, 0.6062, 0.6499]])\n",
            "torch.Size([2, 3])\n"
          ]
        }
      ]
    },
    {
      "cell_type": "code",
      "source": [
        "a = torch.ones(5)\n",
        "print(a)"
      ],
      "metadata": {
        "colab": {
          "base_uri": "https://localhost:8080/"
        },
        "id": "87M_CRDoLPyA",
        "outputId": "edf4dcbb-2c1d-4c4a-a0b4-0889a1fee452"
      },
      "execution_count": null,
      "outputs": [
        {
          "output_type": "stream",
          "name": "stdout",
          "text": [
            "tensor([1., 1., 1., 1., 1.])\n"
          ]
        }
      ]
    },
    {
      "cell_type": "code",
      "source": [
        "import numpy as np\n",
        "b = a.numpy()\n",
        "print(b)\n",
        "a.add_(a)\n",
        "print(a)\n",
        "print(b)"
      ],
      "metadata": {
        "colab": {
          "base_uri": "https://localhost:8080/"
        },
        "id": "ERn3COl2LFxn",
        "outputId": "2388e9ec-333f-40ca-9ada-38ffcff88824"
      },
      "execution_count": null,
      "outputs": [
        {
          "output_type": "stream",
          "name": "stdout",
          "text": [
            "[1. 1. 1. 1. 1.]\n",
            "tensor([2., 2., 2., 2., 2.])\n",
            "[2. 2. 2. 2. 2.]\n"
          ]
        }
      ]
    },
    {
      "cell_type": "code",
      "source": [
        "a = np.ones(5)\n",
        "b = torch.from_numpy(a)\n",
        "np.add(a, 1, out=a)\n",
        "print(a)\n",
        "print(b)\n",
        "\n",
        "a += 1\n",
        "print(a)\n",
        "print(b)"
      ],
      "metadata": {
        "colab": {
          "base_uri": "https://localhost:8080/"
        },
        "id": "L7RFoeJXMKze",
        "outputId": "afbe4ea3-bd4a-4bb9-a4b0-679f32054dd3"
      },
      "execution_count": null,
      "outputs": [
        {
          "output_type": "stream",
          "name": "stdout",
          "text": [
            "[2. 2. 2. 2. 2.]\n",
            "tensor([2., 2., 2., 2., 2.], dtype=torch.float64)\n",
            "[3. 3. 3. 3. 3.]\n",
            "tensor([3., 3., 3., 3., 3.], dtype=torch.float64)\n"
          ]
        }
      ]
    },
    {
      "cell_type": "code",
      "source": [
        "x = torch.ones(5 , requires_grad=True)\n",
        "print(x)"
      ],
      "metadata": {
        "colab": {
          "base_uri": "https://localhost:8080/"
        },
        "id": "2himc8TbNKM9",
        "outputId": "8fbdde1a-4f83-4cd5-b8c7-b14101d7313c"
      },
      "execution_count": null,
      "outputs": [
        {
          "output_type": "stream",
          "name": "stdout",
          "text": [
            "tensor([1., 1., 1., 1., 1.], requires_grad=True)\n"
          ]
        }
      ]
    },
    {
      "cell_type": "code",
      "source": [
        "## Back propagation\n",
        "x = torch.randn(3, requires_grad=True)\n",
        "print(x)\n",
        "y = x + 2\n",
        "print(y)\n",
        "z = y * y * 2\n",
        "print(z)\n",
        " # z = z.mean() # mean Operation\n",
        "print(z)\n",
        "# z.backward()  # Gradient od z w.r.t x,  (dz/dx)\n",
        "# print(x.grad)\n",
        "vector = torch.tensor([0.1 , 1.0 , 0.001] , dtype=torch.float)\n",
        "print(vector)\n",
        "z.backward(vector)\n",
        "print(x.grad)"
      ],
      "metadata": {
        "colab": {
          "base_uri": "https://localhost:8080/"
        },
        "id": "ruTrEHUKN8s3",
        "outputId": "eddb3aab-a91a-412e-f309-61e6adfd68a8"
      },
      "execution_count": null,
      "outputs": [
        {
          "output_type": "stream",
          "name": "stdout",
          "text": [
            "tensor([ 0.3787, -0.9740, -1.0835], requires_grad=True)\n",
            "tensor([2.3787, 1.0260, 0.9165], grad_fn=<AddBackward0>)\n",
            "tensor([11.3161,  2.1053,  1.6800], grad_fn=<MulBackward0>)\n",
            "tensor([11.3161,  2.1053,  1.6800], grad_fn=<MulBackward0>)\n",
            "tensor([0.1000, 1.0000, 0.0010])\n",
            "tensor([9.5147e-01, 4.1039e+00, 3.6661e-03])\n"
          ]
        }
      ]
    },
    {
      "source": [
        "x.requires_grad_(False)\n",
        "x.detach()\n",
        "with torch.no_grad():\n",
        "      y = x + 2\n",
        "      print(y)"
      ],
      "cell_type": "code",
      "metadata": {
        "colab": {
          "base_uri": "https://localhost:8080/"
        },
        "id": "CQtQumt-UuKV",
        "outputId": "3d9be0d6-b216-4bf7-a5e2-4906fc9b89a7"
      },
      "execution_count": null,
      "outputs": [
        {
          "output_type": "stream",
          "name": "stdout",
          "text": [
            "tensor([2.3787, 1.0260, 0.9165])\n"
          ]
        }
      ]
    },
    {
      "cell_type": "code",
      "source": [
        "# Dummy training Example\n",
        "weights = torch.ones(4 , requires_grad=True)\n",
        "for epoch in range(3):\n",
        "  model_output= (weights*3).sum()\n",
        "  model_output.backward()\n",
        "\n",
        "  print(weights.grad)\n",
        "\n",
        "  weights.grad.zero_()\n"
      ],
      "metadata": {
        "colab": {
          "base_uri": "https://localhost:8080/"
        },
        "id": "687PlFJgVGEy",
        "outputId": "b63dc9fa-3f42-42a1-ddf0-974b79b2bfba"
      },
      "execution_count": null,
      "outputs": [
        {
          "output_type": "stream",
          "name": "stdout",
          "text": [
            "tensor([3., 3., 3., 3.])\n",
            "tensor([3., 3., 3., 3.])\n",
            "tensor([3., 3., 3., 3.])\n"
          ]
        }
      ]
    },
    {
      "source": [
        "optimizer = torch.optim.SGD([weights] , lr=0.01) # Pass weights as a list\n",
        "optimizer.step()\n",
        "optimizer.zero_grad()"
      ],
      "cell_type": "code",
      "metadata": {
        "id": "mp2xsI21WJwo"
      },
      "execution_count": null,
      "outputs": []
    },
    {
      "cell_type": "markdown",
      "source": [
        "BACKPROPAGATION ALGORITHM\n"
      ],
      "metadata": {
        "id": "MDkmpJEDWULU"
      }
    },
    {
      "cell_type": "code",
      "source": [
        "import torch\n",
        "x = torch.tensor(1.0)\n",
        "y = torch.tensor(2.0)\n",
        "\n",
        "q = torch.tensor(5.0 , requires_grad=True)\n",
        "# forward pass and compute\n",
        "y_hat = q + x\n",
        "loss = (y_hat - y) ** 2\n",
        "print(loss)\n",
        "# Backward pass\n",
        "loss.backward()\n",
        "print(q.grad)\n",
        "\n",
        "#update weights\n",
        "# next forward\n"
      ],
      "metadata": {
        "colab": {
          "base_uri": "https://localhost:8080/"
        },
        "id": "15KuG3YfWSGA",
        "outputId": "9d169914-7b7e-4554-f3a1-e795741f84d1"
      },
      "execution_count": null,
      "outputs": [
        {
          "output_type": "stream",
          "name": "stdout",
          "text": [
            "tensor(16., grad_fn=<PowBackward0>)\n",
            "tensor(8.)\n"
          ]
        }
      ]
    },
    {
      "cell_type": "code",
      "source": [
        "# Gradient Descent Algorithm"
      ],
      "metadata": {
        "id": "gJKHtZgP8p4U"
      },
      "execution_count": null,
      "outputs": []
    },
    {
      "cell_type": "code",
      "source": [
        "import numpy as np\n",
        "X = np.array([1 ,2,3,4] , dtype=np.float32)\n",
        "Y = np.array([2,4,6,8] , dtype=np.float32)\n",
        "\n",
        "w = 0.0\n",
        "\n",
        "# model prediction\n",
        "def forward(x):\n",
        "  return w * x\n",
        "\n",
        "# loss = MSE\n",
        "def loss(y , y_predicted):\n",
        "  return ((y_predicted - y)**2).mean()\n",
        "\n",
        "\n",
        "\n",
        "# gradient\n",
        "# MSE = 1/N * (w*x - y ) **2\n",
        "#dl/dw = 1/N 2x (w*x - y )\n",
        "def gradient(x , y , y_predictes):\n",
        "  return np.dot(2*x , y_predictes - y).mean()\n",
        "\n",
        "print(f'Prediction before training : f(5) = {forward(5):.3f}')\n",
        "\n",
        "# Training\n",
        "learning_rate = 0.01\n",
        "n_iters = 10\n",
        "\n",
        "for epoch in range(n_iters):\n",
        "  # prediction = forward pass\n",
        "  y_pred = forward(X)\n",
        "\n",
        "  # loss\n",
        "  l = loss(Y , y_pred)\n",
        "  # Gradients\n",
        "  dw = gradient(X , Y , y_pred)\n",
        "\n",
        "  # update weights\n",
        "  w -= learning_rate * dw\n",
        "\n",
        "  if epoch % 1 == 0:\n",
        "    print(f'epoch {epoch+1} : w = {w:.3f} , loss = {l:.8f}')"
      ],
      "metadata": {
        "colab": {
          "base_uri": "https://localhost:8080/"
        },
        "id": "RyyrPKa-7gEO",
        "outputId": "e4018524-89df-4c8d-bf7b-df2d213a1a98"
      },
      "execution_count": null,
      "outputs": [
        {
          "output_type": "stream",
          "name": "stdout",
          "text": [
            "Prediction before training : f(5) = 0.000\n",
            "epoch 1 : w = 1.200 , loss = 30.00000000\n",
            "epoch 2 : w = 1.680 , loss = 4.79999924\n",
            "epoch 3 : w = 1.872 , loss = 0.76800019\n",
            "epoch 4 : w = 1.949 , loss = 0.12288000\n",
            "epoch 5 : w = 1.980 , loss = 0.01966083\n",
            "epoch 6 : w = 1.992 , loss = 0.00314574\n",
            "epoch 7 : w = 1.997 , loss = 0.00050331\n",
            "epoch 8 : w = 1.999 , loss = 0.00008053\n",
            "epoch 9 : w = 1.999 , loss = 0.00001288\n",
            "epoch 10 : w = 2.000 , loss = 0.00000206\n"
          ]
        }
      ]
    },
    {
      "cell_type": "code",
      "source": [
        "#   Design Model (input , output , size , forward pass )\n",
        "#   Construct loss optimizer\n",
        "#   Training loop\n",
        "#        - forward pass : compute prediction\n",
        "#        - backward pass : gradients\n",
        "#        - update wights\n"
      ],
      "metadata": {
        "id": "03Xs7H-4aEA1"
      },
      "execution_count": null,
      "outputs": []
    },
    {
      "cell_type": "code",
      "source": [
        "import torch\n",
        "import torch.nn as nn\n",
        "\n",
        "# Define the input and output tensors\n",
        "X = torch.tensor([[1], [2], [3], [4]], dtype=torch.float32)\n",
        "Y = torch.tensor([[2], [4], [6], [8]], dtype=torch.float32)\n",
        "X_test = torch.tensor([5], dtype=torch.float32)\n",
        "\n",
        "# Get the number of samples and features\n",
        "n_samples, n_features = X.shape\n",
        "print(n_samples, n_features)\n",
        "\n",
        "# Define the model\n",
        "input_size = n_features\n",
        "output_size = n_features\n",
        "# model = nn.Linear(input_size, output_size)\n",
        "\n",
        "class LinearRegression(nn.Module):\n",
        "    def __init__(self, input_dim, output_dim):\n",
        "        super(LinearRegression, self).__init__()\n",
        "        #define our layers\n",
        "        self.lin = nn.Linear(input_dim, output_dim)\n",
        "\n",
        "    def forward(self, x):\n",
        "        return self.lin(x)\n",
        "\n",
        "model = LinearRegression(input_size, output_size)\n",
        "# Print the prediction before training\n",
        "print(f'Prediction before training: f(5) = {model(X_test).item():.3f}')\n",
        "\n",
        "# Define the learning rate and number of iterations\n",
        "learning_rate = 0.01\n",
        "n_iters = 100\n",
        "\n",
        "# Define the loss function and optimizer\n",
        "loss = nn.MSELoss()\n",
        "optimizer = torch.optim.SGD(model.parameters(), lr=learning_rate)\n",
        "\n",
        "# Training loop\n",
        "for epoch in range(n_iters):\n",
        "    # Prediction: forward pass\n",
        "    y_pred = model(X)\n",
        "\n",
        "    # Loss\n",
        "    l = loss(y_pred, Y)\n",
        "\n",
        "    # Gradient: backward pass\n",
        "    l.backward()  # dl/dw\n",
        "\n",
        "    # Update weights\n",
        "    optimizer.step()\n",
        "\n",
        "    # Zero gradients\n",
        "    optimizer.zero_grad()\n",
        "\n",
        "    if epoch % 10 == 0:\n",
        "        [w, b] = model.parameters()\n",
        "        print(f'epoch {epoch+1}: w = {w[0][0].item():.3f}, loss = {l:.8f}')\n",
        "\n",
        "# Print the prediction after training\n",
        "print(f'Prediction after training: f(5) = {model(X_test).item():.3f}')\n"
      ],
      "metadata": {
        "colab": {
          "base_uri": "https://localhost:8080/"
        },
        "id": "cIg3G8WTaluP",
        "outputId": "eadc9207-17ba-48d8-fe31-7034730c6d57"
      },
      "execution_count": null,
      "outputs": [
        {
          "output_type": "stream",
          "name": "stdout",
          "text": [
            "4 1\n",
            "Prediction before training: f(5) = 2.356\n",
            "epoch 1: w = 0.866, loss = 19.99567413\n",
            "epoch 11: w = 1.887, loss = 0.52712452\n",
            "epoch 21: w = 2.049, loss = 0.02285662\n",
            "epoch 31: w = 2.073, loss = 0.00927354\n",
            "epoch 41: w = 2.075, loss = 0.00841673\n",
            "epoch 51: w = 2.074, loss = 0.00791863\n",
            "epoch 61: w = 2.072, loss = 0.00745753\n",
            "epoch 71: w = 2.070, loss = 0.00702346\n",
            "epoch 81: w = 2.067, loss = 0.00661465\n",
            "epoch 91: w = 2.065, loss = 0.00622962\n",
            "Prediction after training: f(5) = 10.131\n"
          ]
        }
      ]
    },
    {
      "cell_type": "markdown",
      "source": [
        "Linear Regression\n"
      ],
      "metadata": {
        "id": "SGwbU2fYfmDk"
      }
    },
    {
      "cell_type": "markdown",
      "source": [
        "#   Design Model (input , output , size , forward pass )\n",
        "#   Construct loss optimizer\n",
        "#   Training loop\n",
        "#        - forward pass : compute prediction\n",
        "#        - backward pass : gradients\n",
        "#        - update wights\n"
      ],
      "metadata": {
        "id": "LqZoVNuyful9"
      }
    },
    {
      "cell_type": "code",
      "source": [
        "import torch\n",
        "import torch.nn as nn\n",
        "import numpy as np\n",
        "from sklearn import datasets\n",
        "import matplotlib.pyplot as plt\n",
        "\n",
        "# Prepare dataset\n",
        "X_numpy, Y_numpy = datasets.make_regression(n_samples=100, n_features=1, noise=20, random_state=1)\n",
        "X = torch.from_numpy(X_numpy.astype(np.float32))\n",
        "Y = torch.from_numpy(Y_numpy.astype(np.float32))\n",
        "Y = Y.view(Y.shape[0], 1)\n",
        "\n",
        "n_samples, n_features = X.shape\n",
        "\n",
        "# Model\n",
        "input_size = n_features\n",
        "output_size = 1\n",
        "model = nn.Linear(input_size, output_size)\n",
        "\n",
        "# Loss and optimizer\n",
        "criterion = nn.MSELoss()\n",
        "learning_rate = 0.01\n",
        "optimizer = torch.optim.SGD(model.parameters(), lr=learning_rate)\n",
        "\n",
        "# Training loop\n",
        "num_epochs = 100\n",
        "for epoch in range(num_epochs):\n",
        "    # Forward pass\n",
        "    y_predicted = model(X)\n",
        "    loss = criterion(y_predicted, Y)\n",
        "\n",
        "    # Backward pass\n",
        "    loss.backward()\n",
        "\n",
        "    # Update weights\n",
        "    optimizer.step()\n",
        "\n",
        "    # Zero gradients\n",
        "    optimizer.zero_grad()\n",
        "\n",
        "    if (epoch+1) % 10 == 0:\n",
        "        print(f'epoch: {epoch+1}, loss = {loss.item():.4f}')\n",
        "\n",
        "# Plot\n",
        "predicted = model(X).detach().numpy()\n",
        "plt.plot(X_numpy, Y_numpy, 'ro')\n",
        "plt.plot(X_numpy, predicted, 'b')\n",
        "plt.show()\n"
      ],
      "metadata": {
        "colab": {
          "base_uri": "https://localhost:8080/",
          "height": 604
        },
        "id": "BYfsfxpxflVz",
        "outputId": "98c72a6c-93b3-4463-a336-05b9c2417743"
      },
      "execution_count": null,
      "outputs": [
        {
          "output_type": "stream",
          "name": "stdout",
          "text": [
            "epoch: 10, loss = 4297.1973\n",
            "epoch: 20, loss = 3206.0625\n",
            "epoch: 30, loss = 2417.1868\n",
            "epoch: 40, loss = 1846.1998\n",
            "epoch: 50, loss = 1432.4895\n",
            "epoch: 60, loss = 1132.4457\n",
            "epoch: 70, loss = 914.6440\n",
            "epoch: 80, loss = 756.4119\n",
            "epoch: 90, loss = 641.3695\n",
            "epoch: 100, loss = 557.6701\n"
          ]
        },
        {
          "output_type": "display_data",
          "data": {
            "text/plain": [
              "<Figure size 640x480 with 1 Axes>"
            ],
            "image/png": "[encoded data removed]"
          },
          "metadata": {}
        }
      ]
    },
    {
      "cell_type": "markdown",
      "source": [
        "Logistic Regression"
      ],
      "metadata": {
        "id": "vKIqYvMyiojr"
      }
    },
    {
      "cell_type": "code",
      "source": [
        "import torch\n",
        "import torch.nn as nn\n",
        "import numpy as np\n",
        "from sklearn import datasets\n",
        "from sklearn.preprocessing import StandardScaler\n",
        "from sklearn.model_selection import train_test_split\n",
        "import matplotlib.pyplot as plt\n",
        "\n",
        "# Prepare datasets\n",
        "bc = datasets.load_breast_cancer()\n",
        "X, y = bc.data, bc.target\n",
        "n_samples, n_features = X.shape\n",
        "\n",
        "X_train, X_test, y_train, y_test = train_test_split(X, y, test_size=0.2, random_state=1234)\n",
        "\n",
        "# Scale\n",
        "sc = StandardScaler()\n",
        "X_train = sc.fit_transform(X_train)\n",
        "X_test = sc.transform(X_test)\n",
        "\n",
        "X_train = torch.from_numpy(X_train.astype(np.float32))\n",
        "X_test = torch.from_numpy(X_test.astype(np.float32))\n",
        "y_train = torch.from_numpy(y_train.astype(np.float32))\n",
        "y_test = torch.from_numpy(y_test.astype(np.float32))\n",
        "\n",
        "y_train = y_train.view(y_train.shape[0], 1)\n",
        "y_test = y_test.view(y_test.shape[0], 1)\n",
        "\n",
        "# Model\n",
        "class LogisticRegression(nn.Module):\n",
        "    def __init__(self, n_input_features):\n",
        "        super(LogisticRegression, self).__init__()\n",
        "        self.linear = nn.Linear(n_input_features, 1)\n",
        "\n",
        "    def forward(self, x):\n",
        "        y_predicted = torch.sigmoid(self.linear(x))\n",
        "        return y_predicted\n",
        "\n",
        "model = LogisticRegression(n_features)\n",
        "\n",
        "# Loss and optimizer\n",
        "learning_rate = 0.01\n",
        "criterion = nn.BCELoss()\n",
        "optimizer = torch.optim.SGD(model.parameters(), lr=learning_rate)\n",
        "\n",
        "# Training loop\n",
        "num_epochs = 100\n",
        "for epoch in range(num_epochs):\n",
        "    # Forward pass\n",
        "    y_predicted = model(X_train)\n",
        "    loss = criterion(y_predicted, y_train)\n",
        "\n",
        "    # Backward pass\n",
        "    loss.backward()\n",
        "\n",
        "    # Update weights\n",
        "    optimizer.step()\n",
        "\n",
        "    # Zero gradients\n",
        "    optimizer.zero_grad()\n",
        "\n",
        "    if (epoch+1) % 10 == 0:\n",
        "        print(f'epoch: {epoch+1}, loss = {loss.item():.4f}')\n",
        "\n",
        "# Evaluation\n",
        "with torch.no_grad():\n",
        "    y_predicted = model(X_test)\n",
        "    y_predicted_cls = y_predicted.round()\n",
        "    acc = y_predicted_cls.eq(y_test).sum() / float(y_test.shape[0])\n",
        "    print(f'accuracy = {acc:.4f}')\n"
      ],
      "metadata": {
        "colab": {
          "base_uri": "https://localhost:8080/"
        },
        "id": "L5u_w6sghVEt",
        "outputId": "028378e5-1566-4be4-f64e-6e96c83befa1"
      },
      "execution_count": null,
      "outputs": [
        {
          "output_type": "stream",
          "name": "stdout",
          "text": [
            "epoch: 10, loss = 0.5550\n",
            "epoch: 20, loss = 0.4662\n",
            "epoch: 30, loss = 0.4079\n",
            "epoch: 40, loss = 0.3664\n",
            "epoch: 50, loss = 0.3351\n",
            "epoch: 60, loss = 0.3104\n",
            "epoch: 70, loss = 0.2904\n",
            "epoch: 80, loss = 0.2737\n",
            "epoch: 90, loss = 0.2595\n",
            "epoch: 100, loss = 0.2473\n",
            "accuracy = 0.9123\n"
          ]
        }
      ]
    },
    {
      "cell_type": "markdown",
      "source": [
        "DATASET AND DATALOADER\n"
      ],
      "metadata": {
        "id": "U3fAOrE_BJ8N"
      }
    },
    {
      "cell_type": "code",
      "source": [
        "pip install torchvision"
      ],
      "metadata": {
        "colab": {
          "base_uri": "https://localhost:8080/"
        },
        "id": "WVLPLwzWEo6_",
        "outputId": "5293556d-5375-416c-d101-97b14e4d38a2"
      },
      "execution_count": null,
      "outputs": [
        {
          "output_type": "stream",
          "name": "stdout",
          "text": [
            "Requirement already satisfied: torchvision in /usr/local/lib/python3.10/dist-packages (0.18.1+cu121)\n",
            "Requirement already satisfied: numpy in /usr/local/lib/python3.10/dist-packages (from torchvision) (1.26.4)\n",
            "Requirement already satisfied: torch==2.3.1 in /usr/local/lib/python3.10/dist-packages (from torchvision) (2.3.1+cu121)\n",
            "Requirement already satisfied: pillow!=8.3.*,>=5.3.0 in /usr/local/lib/python3.10/dist-packages (from torchvision) (9.4.0)\n",
            "Requirement already satisfied: filelock in /usr/local/lib/python3.10/dist-packages (from torch==2.3.1->torchvision) (3.15.4)\n",
            "Requirement already satisfied: typing-extensions>=4.8.0 in /usr/local/lib/python3.10/dist-packages (from torch==2.3.1->torchvision) (4.12.2)\n",
            "Requirement already satisfied: sympy in /usr/local/lib/python3.10/dist-packages (from torch==2.3.1->torchvision) (1.13.1)\n",
            "Requirement already satisfied: networkx in /usr/local/lib/python3.10/dist-packages (from torch==2.3.1->torchvision) (3.3)\n",
            "Requirement already satisfied: jinja2 in /usr/local/lib/python3.10/dist-packages (from torch==2.3.1->torchvision) (3.1.4)\n",
            "Requirement already satisfied: fsspec in /usr/local/lib/python3.10/dist-packages (from torch==2.3.1->torchvision) (2024.6.1)\n",
            "Collecting nvidia-cuda-nvrtc-cu12==12.1.105 (from torch==2.3.1->torchvision)\n",
            "  Using cached nvidia_cuda_nvrtc_cu12-12.1.105-py3-none-manylinux1_x86_64.whl.metadata (1.5 kB)\n",
            "Collecting nvidia-cuda-runtime-cu12==12.1.105 (from torch==2.3.1->torchvision)\n",
            "  Using cached nvidia_cuda_runtime_cu12-12.1.105-py3-none-manylinux1_x86_64.whl.metadata (1.5 kB)\n",
            "Collecting nvidia-cuda-cupti-cu12==12.1.105 (from torch==2.3.1->torchvision)\n",
            "  Using cached nvidia_cuda_cupti_cu12-12.1.105-py3-none-manylinux1_x86_64.whl.metadata (1.6 kB)\n",
            "Collecting nvidia-cudnn-cu12==8.9.2.26 (from torch==2.3.1->torchvision)\n",
            "  Using cached nvidia_cudnn_cu12-8.9.2.26-py3-none-manylinux1_x86_64.whl.metadata (1.6 kB)\n",
            "Collecting nvidia-cublas-cu12==12.1.3.1 (from torch==2.3.1->torchvision)\n",
            "  Using cached nvidia_cublas_cu12-12.1.3.1-py3-none-manylinux1_x86_64.whl.metadata (1.5 kB)\n",
            "Collecting nvidia-cufft-cu12==11.0.2.54 (from torch==2.3.1->torchvision)\n",
            "  Using cached nvidia_cufft_cu12-11.0.2.54-py3-none-manylinux1_x86_64.whl.metadata (1.5 kB)\n",
            "Collecting nvidia-curand-cu12==10.3.2.106 (from torch==2.3.1->torchvision)\n",
            "  Using cached nvidia_curand_cu12-10.3.2.106-py3-none-manylinux1_x86_64.whl.metadata (1.5 kB)\n",
            "Collecting nvidia-cusolver-cu12==11.4.5.107 (from torch==2.3.1->torchvision)\n",
            "  Using cached nvidia_cusolver_cu12-11.4.5.107-py3-none-manylinux1_x86_64.whl.metadata (1.6 kB)\n",
            "Collecting nvidia-cusparse-cu12==12.1.0.106 (from torch==2.3.1->torchvision)\n",
            "  Using cached nvidia_cusparse_cu12-12.1.0.106-py3-none-manylinux1_x86_64.whl.metadata (1.6 kB)\n",
            "Collecting nvidia-nccl-cu12==2.20.5 (from torch==2.3.1->torchvision)\n",
            "  Using cached nvidia_nccl_cu12-2.20.5-py3-none-manylinux2014_x86_64.whl.metadata (1.8 kB)\n",
            "Collecting nvidia-nvtx-cu12==12.1.105 (from torch==2.3.1->torchvision)\n",
            "  Using cached nvidia_nvtx_cu12-12.1.105-py3-none-manylinux1_x86_64.whl.metadata (1.7 kB)\n",
            "Requirement already satisfied: triton==2.3.1 in /usr/local/lib/python3.10/dist-packages (from torch==2.3.1->torchvision) (2.3.1)\n",
            "Collecting nvidia-nvjitlink-cu12 (from nvidia-cusolver-cu12==11.4.5.107->torch==2.3.1->torchvision)\n",
            "  Using cached nvidia_nvjitlink_cu12-12.6.20-py3-none-manylinux2014_x86_64.whl.metadata (1.5 kB)\n",
            "Requirement already satisfied: MarkupSafe>=2.0 in /usr/local/lib/python3.10/dist-packages (from jinja2->torch==2.3.1->torchvision) (2.1.5)\n",
            "Requirement already satisfied: mpmath<1.4,>=1.1.0 in /usr/local/lib/python3.10/dist-packages (from sympy->torch==2.3.1->torchvision) (1.3.0)\n",
            "Using cached nvidia_cublas_cu12-12.1.3.1-py3-none-manylinux1_x86_64.whl (410.6 MB)\n",
            "Using cached nvidia_cuda_cupti_cu12-12.1.105-py3-none-manylinux1_x86_64.whl (14.1 MB)\n",
            "Using cached nvidia_cuda_nvrtc_cu12-12.1.105-py3-none-manylinux1_x86_64.whl (23.7 MB)\n",
            "Using cached nvidia_cuda_runtime_cu12-12.1.105-py3-none-manylinux1_x86_64.whl (823 kB)\n",
            "Using cached nvidia_cudnn_cu12-8.9.2.26-py3-none-manylinux1_x86_64.whl (731.7 MB)\n",
            "Using cached nvidia_cufft_cu12-11.0.2.54-py3-none-manylinux1_x86_64.whl (121.6 MB)\n",
            "Using cached nvidia_curand_cu12-10.3.2.106-py3-none-manylinux1_x86_64.whl (56.5 MB)\n",
            "Using cached nvidia_cusolver_cu12-11.4.5.107-py3-none-manylinux1_x86_64.whl (124.2 MB)\n",
            "Using cached nvidia_cusparse_cu12-12.1.0.106-py3-none-manylinux1_x86_64.whl (196.0 MB)\n",
            "Using cached nvidia_nccl_cu12-2.20.5-py3-none-manylinux2014_x86_64.whl (176.2 MB)\n",
            "Using cached nvidia_nvtx_cu12-12.1.105-py3-none-manylinux1_x86_64.whl (99 kB)\n",
            "Using cached nvidia_nvjitlink_cu12-12.6.20-py3-none-manylinux2014_x86_64.whl (19.7 MB)\n",
            "Installing collected packages: nvidia-nvtx-cu12, nvidia-nvjitlink-cu12, nvidia-nccl-cu12, nvidia-curand-cu12, nvidia-cufft-cu12, nvidia-cuda-runtime-cu12, nvidia-cuda-nvrtc-cu12, nvidia-cuda-cupti-cu12, nvidia-cublas-cu12, nvidia-cusparse-cu12, nvidia-cudnn-cu12, nvidia-cusolver-cu12\n",
            "Successfully installed nvidia-cublas-cu12-12.1.3.1 nvidia-cuda-cupti-cu12-12.1.105 nvidia-cuda-nvrtc-cu12-12.1.105 nvidia-cuda-runtime-cu12-12.1.105 nvidia-cudnn-cu12-8.9.2.26 nvidia-cufft-cu12-11.0.2.54 nvidia-curand-cu12-10.3.2.106 nvidia-cusolver-cu12-11.4.5.107 nvidia-cusparse-cu12-12.1.0.106 nvidia-nccl-cu12-2.20.5 nvidia-nvjitlink-cu12-12.6.20 nvidia-nvtx-cu12-12.1.105\n"
          ]
        }
      ]
    },
    {
      "cell_type": "code",
      "source": [
        "import torch\n",
        "import torchvision\n",
        "from torch.utils.data import Dataset , DataLoader\n",
        "import numpy as np\n",
        "import math\n",
        "\n",
        "class WineDataset(Dataset):\n",
        "   def __init__(self):\n",
        "    # data loading\n",
        "    xy = np.loadtxt('wine.csv' , delimiter=',',dtype=np.float32 , skiprows=1)\n",
        "    self.x = torch.from_numpy(xy[:,1:])\n",
        "    self.y = torch.from_numpy(xy[:,[0]]) # _samples , 1\n",
        "    self.n_samples = xy.shape[0]\n",
        "\n",
        "   def __getitem__(self,index): # Define the __getitem__ method within the class\n",
        "      return self.x[index] , self.y[index]\n",
        "\n",
        "   def __len__(self):\n",
        "        return self.n_samples\n",
        "\n",
        "dataset  = WineDataset()\n",
        "\n",
        "dataloader = DataLoader(dataset=dataset , batch_size=4 , shuffle = True , num_workers=2)\n",
        "dataiter = iter(dataloader)\n",
        "data = next(dataiter) # Use next(dataiter) instead of dataiter.next()\n",
        "features , labels = data\n",
        "print(features , labels)\n",
        "\n",
        "# training loop\n",
        "num_epoch = 2\n",
        "total_samples = len(dataset)\n",
        "n_iterations = math.ceil(total_samples/4)\n",
        "print(total_samples , n_iterations)\n",
        "\n",
        "\n",
        "for epoch in range(num_epoch):\n",
        "  for i ,(inputs , labels) in enumerate(dataloader):\n",
        "    # forward backward , update\n",
        "    if (i+1) % 5 == 0:\n",
        "      print(f'epoch {epoch+1}/{num_epoch} , step {i+1}/{n_iterations} , inputs {inputs.shape}')\n",
        "\n",
        "\n"
      ],
      "metadata": {
        "colab": {
          "base_uri": "https://localhost:8080/"
        },
        "id": "xBhqnLKcpEk9",
        "outputId": "5017e1e6-6604-49e2-d396-4514dae513cd"
      },
      "execution_count": null,
      "outputs": [
        {
          "output_type": "stream",
          "name": "stdout",
          "text": [
            "tensor([[1.1030e+01, 1.5100e+00, 2.2000e+00, 2.1500e+01, 8.5000e+01, 2.4600e+00,\n",
            "         2.1700e+00, 5.2000e-01, 2.0100e+00, 1.9000e+00, 1.7100e+00, 2.8700e+00,\n",
            "         4.0700e+02],\n",
            "        [1.2250e+01, 1.7300e+00, 2.1200e+00, 1.9000e+01, 8.0000e+01, 1.6500e+00,\n",
            "         2.0300e+00, 3.7000e-01, 1.6300e+00, 3.4000e+00, 1.0000e+00, 3.1700e+00,\n",
            "         5.1000e+02],\n",
            "        [1.3880e+01, 1.8900e+00, 2.5900e+00, 1.5000e+01, 1.0100e+02, 3.2500e+00,\n",
            "         3.5600e+00, 1.7000e-01, 1.7000e+00, 5.4300e+00, 8.8000e-01, 3.5600e+00,\n",
            "         1.0950e+03],\n",
            "        [1.3710e+01, 1.8600e+00, 2.3600e+00, 1.6600e+01, 1.0100e+02, 2.6100e+00,\n",
            "         2.8800e+00, 2.7000e-01, 1.6900e+00, 3.8000e+00, 1.1100e+00, 4.0000e+00,\n",
            "         1.0350e+03]]) tensor([[2.],\n",
            "        [2.],\n",
            "        [1.],\n",
            "        [1.]])\n",
            "178 45\n",
            "epoch 1/2 , step 5/45 , inputs torch.Size([4, 13])\n",
            "epoch 1/2 , step 10/45 , inputs torch.Size([4, 13])\n",
            "epoch 1/2 , step 15/45 , inputs torch.Size([4, 13])\n",
            "epoch 1/2 , step 20/45 , inputs torch.Size([4, 13])\n",
            "epoch 1/2 , step 25/45 , inputs torch.Size([4, 13])\n",
            "epoch 1/2 , step 30/45 , inputs torch.Size([4, 13])\n",
            "epoch 1/2 , step 35/45 , inputs torch.Size([4, 13])\n",
            "epoch 1/2 , step 40/45 , inputs torch.Size([4, 13])\n",
            "epoch 1/2 , step 45/45 , inputs torch.Size([2, 13])\n",
            "epoch 2/2 , step 5/45 , inputs torch.Size([4, 13])\n",
            "epoch 2/2 , step 10/45 , inputs torch.Size([4, 13])\n",
            "epoch 2/2 , step 15/45 , inputs torch.Size([4, 13])\n",
            "epoch 2/2 , step 20/45 , inputs torch.Size([4, 13])\n",
            "epoch 2/2 , step 25/45 , inputs torch.Size([4, 13])\n",
            "epoch 2/2 , step 30/45 , inputs torch.Size([4, 13])\n",
            "epoch 2/2 , step 35/45 , inputs torch.Size([4, 13])\n",
            "epoch 2/2 , step 40/45 , inputs torch.Size([4, 13])\n",
            "epoch 2/2 , step 45/45 , inputs torch.Size([2, 13])\n"
          ]
        }
      ]
    },
    {
      "cell_type": "markdown",
      "source": [
        "...\n",
        "Transform can be applied to PIL images, tensors, ndimensionalarrays, or custom dataset\n",
        "\n",
        "On Images\n",
        "--------\n",
        "CentreCrop , Grayscale ,Pad, RandomAffine\n",
        "Resize, Scale\n",
        "\n",
        "On Tensors\n",
        " Linear Transformation\n",
        "\n",
        " Conversion\n",
        "ToPILImages: from tensor or ndarray\n",
        "ToTensors : from numpy.ndarray or PILImages\n",
        "\n",
        "Generic\n",
        "--------\n",
        "Use Lambda\n",
        "\n",
        "Custom\n",
        " -----------\n",
        "write own class\n",
        "\n",
        "Compose multiple Transforms\n",
        "-----------------------\n",
        "composed - transforms.Rescale(256)\n",
        "torchvision.transform.ToTensor()\n"
      ],
      "metadata": {
        "id": "L44Po8hJmrKv"
      }
    },
    {
      "cell_type": "markdown",
      "source": [],
      "metadata": {
        "id": "owryTHQanj4u"
      }
    },
    {
      "cell_type": "code",
      "source": [
        "import torch\n",
        "import torchvision\n",
        "from torch.utils.data import Dataset , DataLoader\n",
        "import numpy as np\n",
        "import math\n",
        "\n",
        "class WineDataset(Dataset):\n",
        "     def __init__(self , transform = None):\n",
        "         xy = np.loadtxt('/content/wine.csv' , delimiter =',' , dtype=np.float32 , skiprows=1)\n",
        "         self.n_samples = xy.shape[0]\n",
        "\n",
        "         # note that we do not convert to tensors here\n",
        "         self.x = xy[:,1:]\n",
        "         self.y = xy[:,[0]]\n",
        "\n",
        "         self.transform = transform\n",
        "\n",
        "     def __getitem__(self, index):\n",
        "         sample = self.x[index], self.y[index]\n",
        "\n",
        "         if self.transform:\n",
        "             sample = self.transform(sample)\n",
        "\n",
        "         return sample\n",
        "\n",
        "\n",
        "class ToTensor:\n",
        "  def __call__(self , sample):\n",
        "      inputs , targets = sample\n",
        "      return torch.from_numpy(inputs) , torch.from_numpy(targets)\n",
        "class MulTransform:\n",
        "  def __init__(self , factor):\n",
        "    self.factor = factor\n",
        "  def __call__(self , sample):\n",
        "    inputs , target = sample\n",
        "    inputs *= self.factor\n",
        "    return inputs , target\n",
        "\n",
        "\n",
        "dataset  = WineDataset(transform = None)\n",
        "first_data = dataset[0]\n",
        "features , labels = first_data\n",
        "print(type(features) , type(labels))\n",
        "\n",
        "composed = torchvision.transforms.Compose([ToTensor() , MulTransform(2)])\n",
        "dataset  = WineDataset(transform = composed)\n",
        "first_data = dataset[0]\n",
        "features , labels = first_data\n",
        "print(features)\n",
        "print(type(features) , type(labels))"
      ],
      "metadata": {
        "colab": {
          "base_uri": "https://localhost:8080/"
        },
        "id": "cLoGeItJnkoN",
        "outputId": "2192f9ec-d238-457a-8aae-a371e99426a7"
      },
      "execution_count": null,
      "outputs": [
        {
          "output_type": "stream",
          "name": "stdout",
          "text": [
            "<class 'numpy.ndarray'> <class 'numpy.ndarray'>\n",
            "tensor([2.8460e+01, 3.4200e+00, 4.8600e+00, 3.1200e+01, 2.5400e+02, 5.6000e+00,\n",
            "        6.1200e+00, 5.6000e-01, 4.5800e+00, 1.1280e+01, 2.0800e+00, 7.8400e+00,\n",
            "        2.1300e+03])\n",
            "<class 'torch.Tensor'> <class 'torch.Tensor'>\n"
          ]
        }
      ]
    },
    {
      "cell_type": "code",
      "source": [
        "import torch\n",
        "import torchvision\n",
        "from torch.utils.data import Dataset\n",
        "import numpy as np\n",
        "\n",
        "\n",
        "class WineDataset(Dataset):\n",
        "\n",
        "    def __init__(self, transform=None):\n",
        "        xy = np.loadtxt('wine.csv', delimiter=',', dtype=np.float32, skiprows=1)\n",
        "        self.n_samples = xy.shape[0]\n",
        "\n",
        "        # note that we do not convert to tensor here\n",
        "        self.x_data = xy[:, 1:]\n",
        "        self.y_data = xy[:, [0]]\n",
        "\n",
        "        self.transform = transform\n",
        "\n",
        "    def __getitem__(self, index):\n",
        "        sample = self.x_data[index], self.y_data[index]\n",
        "\n",
        "        if self.transform:\n",
        "            sample = self.transform(sample)\n",
        "\n",
        "        return sample\n",
        "\n",
        "    def __len__(self):\n",
        "        return self.n_samples\n",
        "\n",
        "# Custom Transforms\n",
        "# implement __call__(self, sample)\n",
        "class ToTensor:\n",
        "    # Convert ndarrays to Tensors\n",
        "    def __call__(self, sample):\n",
        "        inputs, targets = sample\n",
        "        return torch.from_numpy(inputs), torch.from_numpy(targets)\n",
        "\n",
        "class MulTransform:\n",
        "    # multiply inputs with a given factor\n",
        "    def __init__(self, factor):\n",
        "        self.factor = factor\n",
        "\n",
        "    def __call__(self, sample):\n",
        "        inputs, targets = sample\n",
        "        inputs *= self.factor\n",
        "        return inputs, targets\n",
        "\n",
        "print('Without Transform')\n",
        "dataset = WineDataset()\n",
        "first_data = dataset[0]\n",
        "features, labels = first_data\n",
        "print(type(features), type(labels))\n",
        "print(features, labels)\n",
        "\n",
        "print('\\nWith Tensor Transform')\n",
        "dataset = WineDataset(transform=ToTensor())\n",
        "first_data = dataset[0]\n",
        "features, labels = first_data\n",
        "print(type(features), type(labels))\n",
        "print(features, labels)\n",
        "\n",
        "print('\\nWith Tensor and Multiplication Transform')\n",
        "composed = torchvision.transforms.Compose([ToTensor(), MulTransform(4)])\n",
        "dataset = WineDataset(transform=composed)\n",
        "first_data = dataset[0]\n",
        "features, labels = first_data\n",
        "print(type(features), type(labels))\n",
        "print(features, labels)\n",
        "\n"
      ],
      "metadata": {
        "id": "eG9C63woLKGN",
        "colab": {
          "base_uri": "https://localhost:8080/"
        },
        "outputId": "897b1d07-d67d-48ca-e940-9b43d1b0a01a"
      },
      "execution_count": 2,
      "outputs": [
        {
          "output_type": "stream",
          "name": "stdout",
          "text": [
            "Without Transform\n",
            "<class 'numpy.ndarray'> <class 'numpy.ndarray'>\n",
            "[1.423e+01 1.710e+00 2.430e+00 1.560e+01 1.270e+02 2.800e+00 3.060e+00\n",
            " 2.800e-01 2.290e+00 5.640e+00 1.040e+00 3.920e+00 1.065e+03] [1.]\n",
            "\n",
            "With Tensor Transform\n",
            "<class 'torch.Tensor'> <class 'torch.Tensor'>\n",
            "tensor([1.4230e+01, 1.7100e+00, 2.4300e+00, 1.5600e+01, 1.2700e+02, 2.8000e+00,\n",
            "        3.0600e+00, 2.8000e-01, 2.2900e+00, 5.6400e+00, 1.0400e+00, 3.9200e+00,\n",
            "        1.0650e+03]) tensor([1.])\n",
            "\n",
            "With Tensor and Multiplication Transform\n",
            "<class 'torch.Tensor'> <class 'torch.Tensor'>\n",
            "tensor([5.6920e+01, 6.8400e+00, 9.7200e+00, 6.2400e+01, 5.0800e+02, 1.1200e+01,\n",
            "        1.2240e+01, 1.1200e+00, 9.1600e+00, 2.2560e+01, 4.1600e+00, 1.5680e+01,\n",
            "        4.2600e+03]) tensor([1.])\n"
          ]
        }
      ]
    },
    {
      "cell_type": "markdown",
      "source": [
        "SoftMax  Activation Function\n",
        "AND\n",
        "Cross Entropy loss function\n"
      ],
      "metadata": {
        "id": "qsRrszGWxU6A"
      }
    },
    {
      "cell_type": "code",
      "source": [
        "import torch\n",
        "import torch.nn as nn\n",
        "import numpy as np\n",
        "\n",
        "def softmax(x):\n",
        "  return np.exp(x) / np.sum(np.exp(x) , axis = 0)\n",
        "\n",
        "def cross_entropy(actual , predicted):\n",
        "  return -np.sum(actual * np.log(predicted))\n",
        "\n",
        "Y = np.array([1,0,0])\n",
        "\n",
        "y_pred_good = np.array([0.7 , 0.2 , 0.1])\n",
        "Y_pred_bad = np.array([0.1 , 0.3 , 0.6])\n",
        "\n",
        "l1 = cross_entropy(Y , y_pred_good)\n",
        "l2 = cross_entropy(Y , Y_pred_bad)\n",
        "\n",
        "\n",
        "print(f'loss1 numpy : {l1:.4f}')\n",
        "print(f'loss2 numpy : {l2:.4f}')"
      ],
      "metadata": {
        "colab": {
          "base_uri": "https://localhost:8080/"
        },
        "id": "ZMqVhoLRegsh",
        "outputId": "44515f7d-0519-49fc-a9ba-6cf39f2685f4"
      },
      "execution_count": 6,
      "outputs": [
        {
          "output_type": "stream",
          "name": "stdout",
          "text": [
            "loss1 numpy : 0.3567\n",
            "loss2 numpy : 2.3026\n"
          ]
        }
      ]
    },
    {
      "cell_type": "code",
      "source": [
        "import torch\n",
        "import torch.nn as nn\n",
        "import numpy as np\n",
        "\n",
        "loss = nn.CrossEntropyLoss()\n",
        "# 3 samples\n",
        "Y = torch.tensor([2,0 ,1])\n",
        "\n",
        "# no. of samples = no of classes =3 X 3\n",
        "Y_pred_good = torch.tensor([[2.0 , 1.0 , 0.1] ,[2.0 , 1.0 , 0.1 ] , [0.1 , 3.0 , 0.2]])\n",
        "Y_pred_bad = torch.tensor([[0.5 , 2.0 , 0.3] , [0.1 , 1.0 , 0.1] ,[0.1 , 3.0 , 0.1]])\n",
        "\n",
        "\n",
        "print(loss(Y_pred_good , Y))\n",
        "print(loss(Y_pred_bad , Y))\n",
        "\n",
        "print(l1.item())\n",
        "print(l2.item())\n",
        "\n",
        "_,predictions1 = torch.max(Y_pred_good , 1)\n",
        "_,predictions2 = torch.max(Y_pred_bad , 1)\n",
        "\n",
        "print(predictions1)\n",
        "print(predictions2)\n"
      ],
      "metadata": {
        "colab": {
          "base_uri": "https://localhost:8080/"
        },
        "id": "YoJhXZJx73RP",
        "outputId": "6dbc1624-d958-40e1-cb4a-13592a280742"
      },
      "execution_count": 7,
      "outputs": [
        {
          "output_type": "stream",
          "name": "stdout",
          "text": [
            "tensor(0.9479)\n",
            "tensor(1.2134)\n",
            "0.35667494393873245\n",
            "2.3025850929940455\n",
            "tensor([0, 0, 1])\n",
            "tensor([1, 1, 1])\n"
          ]
        }
      ]
    },
    {
      "cell_type": "code",
      "source": [
        "import torch\n",
        "import torch.nn as nn\n",
        "import numpy as np\n",
        "\n",
        "class NeuralNet2(nn.Module):\n",
        "  def __init__(self , input_size , hidden_size , num_classes):\n",
        "    super(NeuralNet2 , self).__init__()\n",
        "    self.linear1 = nn.Linear(input_size , hidden_size)\n",
        "    self.relu = nn.ReLU()\n",
        "    self.linear2 = nn.Linear(hidden_size , num_classes)\n",
        "\n",
        "  def forward(self , x):\n",
        "    out = self.linear1(x)\n",
        "    out = self.relu(out)\n",
        "    out = self.linear2(out)\n",
        "    # no softmax at the end\n",
        "    return out\n",
        "\n",
        "model = NeuralNet2(input_size = 28*28 , hidden_size = 5 , num_classes = 3)\n",
        "criterion = nn.BCELoss()"
      ],
      "metadata": {
        "id": "M1D9aBhxBc3S"
      },
      "execution_count": 13,
      "outputs": []
    },
    {
      "cell_type": "code",
      "source": [
        "#  Activation functions\n",
        "\n",
        "import torch\n",
        "import torch.nn as nn\n",
        "import numpy as np\n",
        "\n",
        "# Option 1 (create nn modules)\n",
        "class NeuralNet(nn.Module):\n",
        "  def __init__(self , input_size , hidden_size):\n",
        "    super(NeuralNet , self).__init__()\n",
        "    self.linear1 = nn.Linear(input_size , hidden_size)\n",
        "    self.relu = nn.ReLU()\n",
        "    self.linear2 = nn.Linear(hidden_size , 1)\n",
        "    self.sigmoid = nn.Sigmoid()\n",
        "\n",
        "  def forward(self , x):\n",
        "    out = self.linear1(x)\n",
        "    out = self.relu(out)\n",
        "    out = self.linear2(out)\n",
        "    out = self.sigmoid(out)\n",
        "    return out\n",
        "\n",
        "\n",
        "#  Option 2 (use activation functions directly in forward pass )\n",
        "class NeuralNet(nn.Module):\n",
        "  def __init__(self , input_size , hidden_size):\n",
        "    super(NeuralNet , self).__init__()\n",
        "    slef.linear1 = nn.Linear(input_size , hidden_size)\n",
        "    self.linear2 = nn.Linear(hidden_size , 1)\n",
        "\n",
        "  def forward(self , x):\n",
        "    out = torch.relu(self.linear1(x))\n",
        "    out = torch.sigmoid(self.linear2(out))\n",
        "    torch.softmax(self.linear2(out))\n",
        "    torch.tanh(self.linear2(out))\n",
        "    return out"
      ],
      "metadata": {
        "id": "k7wFr3b5CmbL"
      },
      "execution_count": 2,
      "outputs": []
    },
    {
      "cell_type": "markdown",
      "source": [
        "Feed Forward Neural Network\n"
      ],
      "metadata": {
        "id": "QvUjV2jdYsk4"
      }
    },
    {
      "cell_type": "code",
      "source": [
        "#  MNIST\n",
        "#  Data Loader and  Transformation\n",
        "#  Multilayer Neural Net , activation function\n",
        "# Loss and optimizer\n",
        "# Training loop\n",
        "# Model calculation\n",
        "# Gpu support\n",
        "\n",
        "import torch\n",
        "import torch.nn as nn\n",
        "import torchvision\n",
        "import torchvision.transforms as transforms\n",
        "import matplotlib.pyplot as plt\n",
        "\n",
        "# device config\n",
        "device = torch.device('cuda' if torch.cuda.is_available() else 'cpu')\n",
        "\n",
        "# hyper parameters\n",
        "input_size = 784   # 28 x28\n",
        "hidden_size = 100\n",
        "num_classes = 10\n",
        "num_epochs = 2\n",
        "batch_size = 100\n",
        "learning_rate = 0.001\n",
        "\n",
        "# MNIST\n",
        "train_dataset = torchvision.datasets.MNIST(root = './data' , train = True , transform = transforms.ToTensor() , download = True)\n",
        "\n",
        "test_dataset = torchvision.datasets.MNIST(root = './data' , train = False , transform = transforms.ToTensor())\n",
        "\n",
        "train_loader = torch.utils.data.DataLoader(dataset = train_dataset , batch_size = batch_size , shuffle = True)\n",
        "\n",
        "\n",
        "test_loader = torch.utils.data.DataLoader(dataset = test_dataset , batch_size = batch_size , shuffle = False)\n",
        "\n",
        "examples = iter(train_loader)\n",
        "samples , labels = next(examples)\n",
        "print(samples.shape , labels.shape)\n",
        "\n",
        "for i in range(6):\n",
        "  plt.subplot(2,3,i+1)\n",
        "  plt.imshow(samples[i][0] , cmap = 'gray')\n",
        "\n",
        "plt.show()\n",
        "\n",
        "\n",
        "class NeuralNet(nn.Module):\n",
        "  def __init__(self , input_size , hidden_size , num_classes):\n",
        "    super(NeuralNet , self).__init__()\n",
        "    self.l1 = nn.Linear(input_size , hidden_size)\n",
        "    self.relu = nn.Relu()\n",
        "    self.l2 = nn.Linear(hidden_size , num_classes)\n",
        "  def forward(self , x):\n",
        "    out = self.l1(x)\n",
        "    out = self.relu(out)\n",
        "    out = self.l2(out)\n",
        "    # no softmax at the end\n",
        "    return out\n",
        "\n",
        "model = NeuralNet(input_size , hidden_size , num_classes)\n",
        "\n",
        "# loss and optimizer\n",
        "criterion = nn.CrossEntropyLoss() # this will apply soft max optimizer at the output layer\n",
        "optimizer = torch.optim.Adam(model.parameters() , lr = learning_rate)\n",
        "\n",
        "#training loop\n",
        "n_total_steps = len(train_loader)\n",
        "for epoch in range(num_epochs):\n",
        "  for i , (images , labels) in enumerate(train_loader):\n",
        ""
      ],
      "metadata": {
        "colab": {
          "base_uri": "https://localhost:8080/",
          "height": 428
        },
        "id": "DW3dVPiSYxm5",
        "outputId": "4b286b00-2810-4f10-9981-b52c3df5555d"
      },
      "execution_count": 6,
      "outputs": [
        {
          "output_type": "stream",
          "name": "stdout",
          "text": [
            "torch.Size([100, 1, 28, 28]) torch.Size([100])\n"
          ]
        },
        {
          "output_type": "display_data",
          "data": {
            "text/plain": [
              "<Figure size 640x480 with 6 Axes>"
            ],
            "image/png": "[encoded data removed]"
          },
          "metadata": {}
        }
      ]
    }
  ]
}